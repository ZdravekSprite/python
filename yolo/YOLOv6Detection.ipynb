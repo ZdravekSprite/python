{
 "cells": [
  {
   "cell_type": "code",
   "execution_count": null,
   "metadata": {
    "colab": {
     "base_uri": "https://localhost:8080/"
    },
    "id": "yCnuiIXjbcLq",
    "outputId": "c6050fd4-906b-4a18-91e3-455991461bb7"
   },
   "outputs": [],
   "source": [
    "#!pip install torch\n",
    "import torch\n",
    "\n",
    "# Setup device-agnostic code\n",
    "if torch.cuda.is_available():\n",
    "    device = \"cuda\"\n",
    "    !nvidia-smi\n",
    "else:\n",
    "    device = \"cpu\"\n",
    "    #!pip install torch torchvision torchaudio --extra-index-url https://download.pytorch.org/whl/cu116\n",
    "device"
   ]
  },
  {
   "cell_type": "code",
   "execution_count": null,
   "metadata": {
    "colab": {
     "base_uri": "https://localhost:8080/"
    },
    "id": "msS1ksMCbcOZ",
    "outputId": "31d810be-68d4-4a49-8688-1cb0ee2d5f5b"
   },
   "outputs": [],
   "source": [
    "import sys\n",
    "print(f\"Python version: {sys.version}, {sys.version_info} \")\n",
    "print(f\"Pytorch version: {torch.__version__} \")"
   ]
  },
  {
   "cell_type": "code",
   "execution_count": null,
   "metadata": {
    "colab": {
     "base_uri": "https://localhost:8080/"
    },
    "id": "yCnuiIXjbcLq",
    "outputId": "c6050fd4-906b-4a18-91e3-455991461bb7"
   },
   "outputs": [],
   "source": [
    "import os\n",
    "from pathlib import Path\n",
    "# Setup yolov6 folder\n",
    "ipynb_path = os.path.dirname(os.path.realpath(\"__file__\"))\n",
    "#print(ipynb_path)\n",
    "root_path = Path(ipynb_path).parent\n",
    "#print(root_path)\n",
    "yolov6_path = root_path / \"yolov6\"\n",
    "#print(yolov6_path)\n",
    "\n",
    "if yolov6_path.is_dir():\n",
    "    print(f\"{yolov6_path} directory exists.\")\n",
    "else:\n",
    "    print(f\"Did not find {yolov6_path} directory\")\n",
    "    %cd {root_path}\n",
    "    # Download YOLOv6 code\n",
    "    !git clone https://github.com/meituan/YOLOv6\n",
    "\n",
    "%cd {yolov6_path}\n",
    "if os.name == 'posix':\n",
    "    !ls\n",
    "if os.name == 'nt':\n",
    "    !dir"
   ]
  },
  {
   "cell_type": "code",
   "execution_count": null,
   "metadata": {
    "colab": {
     "base_uri": "https://localhost:8080/"
    },
    "id": "KhApWfeKbcFG",
    "outputId": "5341922c-9a00-4f3e-af44-7acea5db8fff"
   },
   "outputs": [],
   "source": [
    "#!pip install requests\n",
    "from requests import get # to make GET request\n",
    "\n",
    "checkpoints:[str] = [\"yolov6s\", \"yolov6n\", \"yolov6t\"]\n",
    "\n",
    "def download(url, file_name):\n",
    "    #open in binary mode\n",
    "    with open(file_name, \"wb\") as file:\n",
    "        #get request\n",
    "        response = get(url)\n",
    "        # write to file\n",
    "        file.write(response.content)\n",
    "        print(f\"{url} saved to {file_name}\")\n",
    "\n",
    "#Download weights\n",
    "weights_folder = yolov6_path / \"weights\"\n",
    "if not os.path.exists(weights_folder):\n",
    "    if os.name == 'posix':\n",
    "        !mkdir -p {weights_folder}\n",
    "    if os.name == 'nt':\n",
    "        !mkdir {weights_folder}\n",
    "\n",
    "for checkpoint in checkpoints:\n",
    "    weight_url = f\"https://github.com/meituan/YOLOv6/releases/download/0.1.0/{checkpoint}.pt\"\n",
    "    if not os.path.exists(f\"{weights_folder / checkpoint}.pt\"):\n",
    "        print(f\"Downloading checkpoint...{checkpoint}.pt\")\n",
    "        if os.name == 'posix':\n",
    "            os.system(f\"\"\"wget -P {weights_folder} -c {weight_url}\"\"\")\n",
    "        if os.name == 'nt':\n",
    "            download(weight_url, f\"{weights_folder / checkpoint}.pt\")"
   ]
  },
  {
   "cell_type": "code",
   "execution_count": null,
   "metadata": {
    "colab": {
     "base_uri": "https://localhost:8080/"
    },
    "id": "xI5DiyI2bcAK",
    "outputId": "ceeb52d0-7c32-4e4c-98fd-ec2d8783b68c"
   },
   "outputs": [],
   "source": [
    "#!pip install opencv-python\n",
    "#!pip install pandas\n",
    "#!pip install requests\n",
    "#!pip install torchvision\n",
    "#!pip install tqdm\n",
    "#!pip install pyyaml\n",
    "#!pip install seaborn"
   ]
  },
  {
   "cell_type": "markdown",
   "metadata": {},
   "source": [
    "- '--weights', type=str, default='weights/yolov6s.pt', help='model path(s) for inference.'\n",
    "- '--source', type=str, default='data/images', help='the source path, e.g. image-file/dir.'\n",
    "- '--yaml', type=str, default='data/coco.yaml', help='data yaml file.'\n",
    "- '--img-size', type=int, default=640, help='the image-size(h,w) in inference size.'\n",
    "- '--conf-thres', type=float, default=0.25, help='confidence threshold for inference.'\n",
    "- '--iou-thres', type=float, default=0.45, help='NMS IoU threshold for inference.'\n",
    "- '--max-det', type=int, default=1000, help='maximal inferences per image.'\n",
    "- '--device', default='0', help='device to run our model i.e. 0 or 0,1,2,3 or cpu.'\n",
    "- '--save-txt', action='store_true', help='save results to *.txt.'\n",
    "- '--save-img', action='store_false', help='save visuallized inference results.'\n",
    "- '--view-img', action='store_true', help='show inference results'\n",
    "- '--classes', nargs='+', type=int, help='filter by classes, e.g. --classes 0, or --classes 0 2 3.'\n",
    "- '--agnostic-nms', action='store_true', help='class-agnostic NMS.'\n",
    "- '--project', default='runs/inference', help='save inference results to project/name.'\n",
    "- '--name', default='exp', help='save inference results to project/name.'\n",
    "- '--hide-labels', default=False, action='store_true', help='hide labels.'\n",
    "- '--hide-conf', default=False, action='store_true', help='hide confidences.'\n",
    "- '--half', action='store_true', help='whether to use FP16 half-precision inference.'"
   ]
  },
  {
   "cell_type": "code",
   "execution_count": null,
   "metadata": {
    "colab": {
     "base_uri": "https://localhost:8080/"
    },
    "id": "xI5DiyI2bcAK",
    "outputId": "ceeb52d0-7c32-4e4c-98fd-ec2d8783b68c",
    "scrolled": true
   },
   "outputs": [],
   "source": [
    "# Inference\n",
    "!python tools/infer.py  --name test"
   ]
  },
  {
   "cell_type": "code",
   "execution_count": null,
   "metadata": {
    "id": "bp7rVA0nbn-O"
   },
   "outputs": [],
   "source": [
    "# define helper functions to show images\n",
    "def imShow(path):\n",
    "  import cv2\n",
    "  import matplotlib.pyplot as plt\n",
    "  %matplotlib inline\n",
    "\n",
    "  image = cv2.imread(str(path), cv2.IMREAD_UNCHANGED)\n",
    "\n",
    "  fig = plt.gcf()\n",
    "  fig.set_size_inches(18, 10)\n",
    "  plt.axis(\"off\")\n",
    "  plt.imshow(cv2.cvtColor(image, cv2.COLOR_BGR2RGB))\n",
    "  plt.show()"
   ]
  },
  {
   "cell_type": "code",
   "execution_count": null,
   "metadata": {
    "colab": {
     "base_uri": "https://localhost:8080/",
     "height": 575
    },
    "id": "aId1iLXtb7KA",
    "outputId": "f691051b-56b9-4864-f443-b17e04bb99dd"
   },
   "outputs": [],
   "source": [
    "image_path = yolov6_path / \"runs\" / \"inference\" / \"test\" / \"image1.jpg\"\n",
    "imShow(image_path)"
   ]
  }
 ],
 "metadata": {
  "accelerator": "GPU",
  "colab": {
   "name": "YOLOv7Detection.ipynb",
   "provenance": []
  },
  "gpuClass": "standard",
  "kernelspec": {
   "display_name": "Python 3 (ipykernel)",
   "language": "python",
   "name": "python3"
  },
  "language_info": {
   "codemirror_mode": {
    "name": "ipython",
    "version": 3
   },
   "file_extension": ".py",
   "mimetype": "text/x-python",
   "name": "python",
   "nbconvert_exporter": "python",
   "pygments_lexer": "ipython3",
   "version": "3.10.5"
  }
 },
 "nbformat": 4,
 "nbformat_minor": 1
}
