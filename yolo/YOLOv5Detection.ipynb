{
 "cells": [
  {
   "cell_type": "code",
   "execution_count": null,
   "metadata": {
    "colab": {
     "base_uri": "https://localhost:8080/"
    },
    "id": "yCnuiIXjbcLq",
    "outputId": "c6050fd4-906b-4a18-91e3-455991461bb7"
   },
   "outputs": [],
   "source": [
    "#!pip install torch\n",
    "import torch\n",
    "\n",
    "# Setup device-agnostic code\n",
    "if torch.cuda.is_available():\n",
    "    device = \"cuda\"\n",
    "    !nvidia-smi\n",
    "else:\n",
    "    device = \"cpu\"\n",
    "    #!pip install torch torchvision torchaudio --extra-index-url https://download.pytorch.org/whl/cu116\n",
    "device"
   ]
  },
  {
   "cell_type": "code",
   "execution_count": null,
   "metadata": {
    "colab": {
     "base_uri": "https://localhost:8080/"
    },
    "id": "msS1ksMCbcOZ",
    "outputId": "31d810be-68d4-4a49-8688-1cb0ee2d5f5b"
   },
   "outputs": [],
   "source": [
    "import sys\n",
    "print(f\"Python version: {sys.version}, {sys.version_info} \")\n",
    "print(f\"Pytorch version: {torch.__version__} \")"
   ]
  },
  {
   "cell_type": "code",
   "execution_count": null,
   "metadata": {
    "colab": {
     "base_uri": "https://localhost:8080/"
    },
    "id": "yCnuiIXjbcLq",
    "outputId": "c6050fd4-906b-4a18-91e3-455991461bb7"
   },
   "outputs": [],
   "source": [
    "import os\n",
    "from pathlib import Path\n",
    "# Setup yolov6 folder\n",
    "ipynb_path = os.path.dirname(os.path.realpath(\"__file__\"))\n",
    "#print(ipynb_path)\n",
    "root_path = Path(ipynb_path).parent\n",
    "#print(root_path)\n",
    "yolov5_path = root_path / \"yolov5\"\n",
    "#print(yolov5_path)\n",
    "\n",
    "if yolov5_path.is_dir():\n",
    "    print(f\"{yolov5_path} directory exists.\")\n",
    "else:\n",
    "    print(f\"Did not find {yolov5_path} directory\")\n",
    "    %cd {root_path}\n",
    "    # Download YOLOv5 code\n",
    "    !git clone https://github.com/ultralytics/yolov5\n",
    "\n",
    "%cd {yolov5_path}\n",
    "if os.name == 'posix':\n",
    "    !ls\n",
    "if os.name == 'nt':\n",
    "    !dir"
   ]
  },
  {
   "cell_type": "code",
   "execution_count": null,
   "metadata": {
    "colab": {
     "base_uri": "https://localhost:8080/"
    },
    "id": "KhApWfeKbcFG",
    "outputId": "5341922c-9a00-4f3e-af44-7acea5db8fff"
   },
   "outputs": [],
   "source": [
    "#!pip install requests\n",
    "from requests import get # to make GET request\n",
    "#all\n",
    "checkpoints:[str] = [\"yolov5l\", \"yolov5l6\",\n",
    "                     \"yolov5m-VOC\", \"yolov5m\", \"yolov5m6\",\n",
    "                     \"yolov5n-7-k5\", \"yolov5n-7\", \"yolov5n\", \"yolov5n6\",\n",
    "                     \"yolov5s\", \"yolov5s6\",\n",
    "                     \"YOLOv5x-7-k5\", \"YOLOv5x-7\", \"yolov5x\", \"yolov5x6\"]\n",
    "checkpoints:[str] = [\"yolov5s\", \"yolov5s6\", \"yolov5n\"]\n",
    "\n",
    "def download(url, file_name):\n",
    "    #open in binary mode\n",
    "    with open(file_name, \"wb\") as file:\n",
    "        #get request\n",
    "        response = get(url)\n",
    "        # write to file\n",
    "        file.write(response.content)\n",
    "        print(f\"{url} saved to {file_name}\")\n",
    "\n",
    "#Download weights\n",
    "for checkpoint in checkpoints:\n",
    "    weight_url = f\"https://github.com/ultralytics/yolov5/releases/download/v6.1/{checkpoint}.pt\"\n",
    "    if not os.path.exists(f\"{checkpoint}.pt\"):\n",
    "        print(f\"Downloading checkpoint...{checkpoint}.pt\")\n",
    "        if os.name == 'posix':\n",
    "            os.system(f\"\"\"wget -c {weight_url}\"\"\")\n",
    "        if os.name == 'nt':\n",
    "            download(weight_url, f\"{checkpoint}.pt\")"
   ]
  },
  {
   "cell_type": "code",
   "execution_count": null,
   "metadata": {
    "colab": {
     "base_uri": "https://localhost:8080/"
    },
    "id": "xI5DiyI2bcAK",
    "outputId": "ceeb52d0-7c32-4e4c-98fd-ec2d8783b68c"
   },
   "outputs": [],
   "source": [
    "#!pip install opencv-python\n",
    "#!pip install pandas\n",
    "#!pip install requests\n",
    "#!pip install torchvision\n",
    "#!pip install tqdm\n",
    "#!pip install pyyaml\n",
    "#!pip install seaborn\n",
    "#!pip install protobuf"
   ]
  },
  {
   "cell_type": "markdown",
   "metadata": {},
   "source": [
    "- '--weights', nargs='+', type=str, default=ROOT / 'yolov5s.pt', help='model path(s)'\n",
    "- '--source', type=str, default=ROOT / 'data/images', help='file/dir/URL/glob, 0 for webcam'\n",
    "- '--data', type=str, default=ROOT / 'data/coco128.yaml', help='(optional) dataset.yaml path'\n",
    "- '--imgsz', '--img', '--img-size', nargs='+', type=int, default=[640], help='inference size h,w'\n",
    "- '--conf-thres', type=float, default=0.25, help='confidence threshold'\n",
    "- '--iou-thres', type=float, default=0.45, help='NMS IoU threshold'\n",
    "- '--max-det', type=int, default=1000, help='maximum detections per image'\n",
    "- '--device', default='', help='cuda device, i.e. 0 or 0,1,2,3 or cpu'\n",
    "- '--view-img', action='store_true', help='show results'\n",
    "- '--save-txt', action='store_true', help='save results to *.txt'\n",
    "- '--save-conf', action='store_true', help='save confidences in --save-txt labels'\n",
    "- '--save-crop', action='store_true', help='save cropped prediction boxes'\n",
    "- '--nosave', action='store_true', help='do not save images/videos'\n",
    "- '--classes', nargs='+', type=int, help='filter by class: --classes 0, or --classes 0 2 3'\n",
    "- '--agnostic-nms', action='store_true', help='class-agnostic NMS'\n",
    "- '--augment', action='store_true', help='augmented inference'\n",
    "- '--visualize', action='store_true', help='visualize features'\n",
    "- '--update', action='store_true', help='update all models'\n",
    "- '--project', default=ROOT / 'runs/detect', help='save results to project/name'\n",
    "- '--name', default='exp', help='save results to project/name'\n",
    "- '--exist-ok', action='store_true', help='existing project/name ok, do not increment'\n",
    "- '--line-thickness', default=3, type=int, help='bounding box thickness (pixels)'\n",
    "- '--hide-labels', default=False, action='store_true', help='hide labels'\n",
    "- '--hide-conf', default=False, action='store_true', help='hide confidences'\n",
    "- '--half', action='store_true', help='use FP16 half-precision inference'\n",
    "- '--dnn', action='store_true', help='use OpenCV DNN for ONNX inference'"
   ]
  },
  {
   "cell_type": "code",
   "execution_count": null,
   "metadata": {
    "colab": {
     "base_uri": "https://localhost:8080/"
    },
    "id": "xI5DiyI2bcAK",
    "outputId": "ceeb52d0-7c32-4e4c-98fd-ec2d8783b68c",
    "scrolled": true
   },
   "outputs": [],
   "source": [
    "# Detection\n",
    "!python detect.py --name test --exist-ok --line-thickness 1"
   ]
  },
  {
   "cell_type": "code",
   "execution_count": null,
   "metadata": {
    "id": "bp7rVA0nbn-O"
   },
   "outputs": [],
   "source": [
    "# define helper functions to show images\n",
    "def imShow(path):\n",
    "  import cv2\n",
    "  import matplotlib.pyplot as plt\n",
    "  %matplotlib inline\n",
    "\n",
    "  image = cv2.imread(str(path), cv2.IMREAD_UNCHANGED)\n",
    "\n",
    "  fig = plt.gcf()\n",
    "  fig.set_size_inches(18, 10)\n",
    "  plt.axis(\"off\")\n",
    "  plt.imshow(cv2.cvtColor(image, cv2.COLOR_BGR2RGB))\n",
    "  plt.show()"
   ]
  },
  {
   "cell_type": "code",
   "execution_count": null,
   "metadata": {
    "colab": {
     "base_uri": "https://localhost:8080/",
     "height": 575
    },
    "id": "aId1iLXtb7KA",
    "outputId": "f691051b-56b9-4864-f443-b17e04bb99dd"
   },
   "outputs": [],
   "source": [
    "image_path = yolov5_path / \"runs\" / \"detect\" / \"test\" / \"zidane.jpg\"\n",
    "imShow(image_path)"
   ]
  }
 ],
 "metadata": {
  "accelerator": "GPU",
  "colab": {
   "name": "YOLOv7Detection.ipynb",
   "provenance": []
  },
  "gpuClass": "standard",
  "kernelspec": {
   "display_name": "Python 3 (ipykernel)",
   "language": "python",
   "name": "python3"
  },
  "language_info": {
   "codemirror_mode": {
    "name": "ipython",
    "version": 3
   },
   "file_extension": ".py",
   "mimetype": "text/x-python",
   "name": "python",
   "nbconvert_exporter": "python",
   "pygments_lexer": "ipython3",
   "version": "3.10.5"
  }
 },
 "nbformat": 4,
 "nbformat_minor": 1
}
