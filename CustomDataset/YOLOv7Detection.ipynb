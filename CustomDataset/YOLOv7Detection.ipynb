{
 "cells": [
  {
   "cell_type": "code",
   "execution_count": null,
   "metadata": {
    "colab": {
     "base_uri": "https://localhost:8080/"
    },
    "id": "yCnuiIXjbcLq",
    "outputId": "c6050fd4-906b-4a18-91e3-455991461bb7"
   },
   "outputs": [],
   "source": [
    "#!pip install torch\n",
    "import torch\n",
    "\n",
    "# Setup device-agnostic code\n",
    "if torch.cuda.is_available():\n",
    "    device = \"cuda\"\n",
    "    !nvidia-smi\n",
    "else:\n",
    "    device = \"cpu\"\n",
    "device"
   ]
  },
  {
   "cell_type": "code",
   "execution_count": null,
   "metadata": {
    "colab": {
     "base_uri": "https://localhost:8080/"
    },
    "id": "msS1ksMCbcOZ",
    "outputId": "31d810be-68d4-4a49-8688-1cb0ee2d5f5b"
   },
   "outputs": [],
   "source": [
    "import sys\n",
    "print(f\"Python version: {sys.version}, {sys.version_info} \")\n",
    "print(f\"Pytorch version: {torch.__version__} \")"
   ]
  },
  {
   "cell_type": "code",
   "execution_count": null,
   "metadata": {
    "colab": {
     "base_uri": "https://localhost:8080/"
    },
    "id": "yCnuiIXjbcLq",
    "outputId": "c6050fd4-906b-4a18-91e3-455991461bb7"
   },
   "outputs": [],
   "source": [
    "from pathlib import Path\n",
    "# Setup yolov7 folder\n",
    "ipynb_path = os.path.dirname(os.path.realpath(\"__file__\"))\n",
    "#print(ipynb_path)\n",
    "root_path = Path(ipynb_path).parent\n",
    "#print(root_path)\n",
    "yolov7_path = root_path / \"yolov7\"\n",
    "#print(yolov7_path)\n",
    "\n",
    "if yolov7_path.is_dir():\n",
    "    print(f\"{yolov7_path} directory exists.\")\n",
    "else:\n",
    "    print(f\"Did not find {yolov7_path} directory\")\n",
    "    %cd {root_path}\n",
    "    # Download YOLOv7 code\n",
    "    !git clone https://github.com/WongKinYiu/yolov7\n",
    "\n",
    "%cd {yolov7_path}\n",
    "if os.name == 'posix':\n",
    "    !ls\n",
    "if os.name == 'nt':\n",
    "    !dir"
   ]
  },
  {
   "cell_type": "code",
   "execution_count": null,
   "metadata": {
    "colab": {
     "base_uri": "https://localhost:8080/"
    },
    "id": "KhApWfeKbcFG",
    "outputId": "5341922c-9a00-4f3e-af44-7acea5db8fff"
   },
   "outputs": [],
   "source": [
    "# Download trained weights\n",
    "!wget https://github.com/WongKinYiu/yolov7/releases/download/v0.1/yolov7.pt"
   ]
  },
  {
   "cell_type": "code",
   "execution_count": null,
   "metadata": {
    "colab": {
     "base_uri": "https://localhost:8080/"
    },
    "id": "xI5DiyI2bcAK",
    "outputId": "ceeb52d0-7c32-4e4c-98fd-ec2d8783b68c"
   },
   "outputs": [],
   "source": [
    "#!pip install pandas\n",
    "#!pip install requests\n",
    "#!pip install torchvision\n",
    "#!pip install tqdm\n",
    "#!pip install pyyaml\n",
    "#!pip install seaborn"
   ]
  },
  {
   "cell_type": "markdown",
   "metadata": {},
   "source": [
    "- '--weights', nargs='+', type=str, default='yolov7.pt', help='model.pt path(s)'\n",
    "- '--source', type=str, default='inference/images', help='source'  # file/folder, 0 for webcam\n",
    "- '--img-size', type=int, default=640, help='inference size (pixels)'\n",
    "- '--conf-thres', type=float, default=0.25, help='object confidence threshold'\n",
    "- '--iou-thres', type=float, default=0.45, help='IOU threshold for NMS'\n",
    "- '--device', default='', help='cuda device, i.e. 0 or 0,1,2,3 or cpu'\n",
    "- '--view-img', action='store_true', help='display results'\n",
    "- '--save-txt', action='store_true', help='save results to *.txt'\n",
    "- '--save-conf', action='store_true', help='save confidences in --save-txt labels'\n",
    "- '--nosave', action='store_true', help='do not save images/videos'\n",
    "- '--classes', nargs='+', type=int, help='filter by class: --class 0, or --class 0 2 3'\n",
    "- '--agnostic-nms', action='store_true', help='class-agnostic NMS'\n",
    "- '--augment', action='store_true', help='augmented inference'\n",
    "- '--update', action='store_true', help='update all models'\n",
    "- '--project', default='runs/detect', help='save results to project/name'\n",
    "- '--name', default='exp', help='save results to project/name'\n",
    "- '--exist-ok', action='store_true', help='existing project/name ok, do not increment'\n",
    "- '--no-trace', action='store_true', help='don`t trace model'"
   ]
  },
  {
   "cell_type": "code",
   "execution_count": null,
   "metadata": {
    "colab": {
     "base_uri": "https://localhost:8080/"
    },
    "id": "xI5DiyI2bcAK",
    "outputId": "ceeb52d0-7c32-4e4c-98fd-ec2d8783b68c",
    "scrolled": true
   },
   "outputs": [],
   "source": [
    "# Detection\n",
    "!python detect.py --name test --no-trace --exist-ok --source test.mkv\n",
    "#!python detect.py --weights best.pt --conf 0.5 --source val"
   ]
  },
  {
   "cell_type": "code",
   "execution_count": null,
   "metadata": {
    "id": "bp7rVA0nbn-O"
   },
   "outputs": [],
   "source": [
    "# define helper functions to show images\n",
    "def imShow(path):\n",
    "  import cv2\n",
    "  import matplotlib.pyplot as plt\n",
    "  %matplotlib inline\n",
    "\n",
    "  image = cv2.imread(\"/\".join(path.split(\"\\\\\")), cv2.IMREAD_UNCHANGED)\n",
    "\n",
    "  #width, height = image.shape[:2]\n",
    "  #resized_image = cv2.resize(image,(3*width, 3*height), interpolation = cv2.INTER_CUBIC)\n",
    "\n",
    "  fig = plt.gcf()\n",
    "  fig.set_size_inches(18, 10)\n",
    "  plt.axis(\"off\")\n",
    "  plt.imshow(cv2.cvtColor(image, cv2.COLOR_BGR2RGB))\n",
    "  plt.show()"
   ]
  },
  {
   "cell_type": "code",
   "execution_count": null,
   "metadata": {
    "colab": {
     "base_uri": "https://localhost:8080/",
     "height": 575
    },
    "id": "aId1iLXtb7KA",
    "outputId": "f691051b-56b9-4864-f443-b17e04bb99dd"
   },
   "outputs": [],
   "source": [
    "imShow(\"runs\\\\detect\\\\test\\\\horses.jpg\")"
   ]
  },
  {
   "cell_type": "code",
   "execution_count": null,
   "metadata": {},
   "outputs": [],
   "source": []
  }
 ],
 "metadata": {
  "accelerator": "GPU",
  "colab": {
   "name": "YOLOv7Detection.ipynb",
   "provenance": []
  },
  "gpuClass": "standard",
  "kernelspec": {
   "display_name": "Python 3 (ipykernel)",
   "language": "python",
   "name": "python3"
  },
  "language_info": {
   "codemirror_mode": {
    "name": "ipython",
    "version": 3
   },
   "file_extension": ".py",
   "mimetype": "text/x-python",
   "name": "python",
   "nbconvert_exporter": "python",
   "pygments_lexer": "ipython3",
   "version": "3.10.5"
  }
 },
 "nbformat": 4,
 "nbformat_minor": 1
}
