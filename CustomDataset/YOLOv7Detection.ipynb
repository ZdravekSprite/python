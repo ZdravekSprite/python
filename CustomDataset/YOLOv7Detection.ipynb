{
 "cells": [
  {
   "cell_type": "code",
   "execution_count": null,
   "metadata": {
    "colab": {
     "base_uri": "https://localhost:8080/"
    },
    "id": "msS1ksMCbcOZ",
    "outputId": "31d810be-68d4-4a49-8688-1cb0ee2d5f5b"
   },
   "outputs": [],
   "source": [
    "import sys\n",
    "import torch\n",
    "print(f\"Python version: {sys.version}, {sys.version_info} \")\n",
    "print(f\"Pytorch version: {torch.__version__} \")"
   ]
  },
  {
   "cell_type": "code",
   "execution_count": null,
   "metadata": {
    "colab": {
     "base_uri": "https://localhost:8080/"
    },
    "id": "yCnuiIXjbcLq",
    "outputId": "c6050fd4-906b-4a18-91e3-455991461bb7"
   },
   "outputs": [],
   "source": [
    "!nvidia-smi"
   ]
  },
  {
   "cell_type": "code",
   "execution_count": null,
   "metadata": {
    "colab": {
     "base_uri": "https://localhost:8080/"
    },
    "id": "utxvpmuibcI7",
    "outputId": "9d238dc4-671b-4d9d-c326-40a1604a4ee2"
   },
   "outputs": [],
   "source": [
    "# Download YOLOv7 code\n",
    "!git clone https://github.com/WongKinYiu/yolov7\n",
    "%cd yolov7\n",
    "!dir\n",
    "if os.name == 'posix':\n",
    "    !ls\n",
    "if os.name == 'nt':\n",
    "    !dir"
   ]
  },
  {
   "cell_type": "code",
   "execution_count": null,
   "metadata": {
    "colab": {
     "base_uri": "https://localhost:8080/"
    },
    "id": "KhApWfeKbcFG",
    "outputId": "5341922c-9a00-4f3e-af44-7acea5db8fff"
   },
   "outputs": [],
   "source": [
    "# Download trained weights\n",
    "!wget https://github.com/WongKinYiu/yolov7/releases/download/v0.1/yolov7.pt"
   ]
  },
  {
   "cell_type": "code",
   "execution_count": null,
   "metadata": {
    "colab": {
     "base_uri": "https://localhost:8080/"
    },
    "id": "xI5DiyI2bcAK",
    "outputId": "ceeb52d0-7c32-4e4c-98fd-ec2d8783b68c"
   },
   "outputs": [],
   "source": [
    "#!pip install pandas\n",
    "#!pip install requests\n",
    "#!pip install torchvision\n",
    "#!pip install tqdm\n",
    "#!pip install pyyaml\n",
    "#!pip install seaborn\n",
    "# Detection\n",
    "#!python detect.py --weights yolov7.pt --conf 0.25 --img-size 640 --source inference/images/horses.jpg\n",
    "!python detect.py --weights best.pt --conf 0.5 --source val"
   ]
  },
  {
   "cell_type": "code",
   "execution_count": null,
   "metadata": {
    "id": "bp7rVA0nbn-O"
   },
   "outputs": [],
   "source": [
    "# define helper functions to show images\n",
    "def imShow(path):\n",
    "  import cv2\n",
    "  import matplotlib.pyplot as plt\n",
    "  %matplotlib inline\n",
    "\n",
    "  image = cv2.imread(\"/\".join(path.split(\"\\\\\")), cv2.IMREAD_UNCHANGED)\n",
    "\n",
    "  width, height = image.shape[:2]\n",
    "  resized_image = cv2.resize(image,(3*width, 3*height), interpolation = cv2.INTER_CUBIC)\n",
    "\n",
    "  fig = plt.gcf()\n",
    "  fig.set_size_inches(18, 10)\n",
    "  plt.axis(\"off\")\n",
    "  plt.imshow(cv2.cvtColor(resized_image, cv2.COLOR_BGR2RGB))\n",
    "  plt.show()"
   ]
  },
  {
   "cell_type": "code",
   "execution_count": null,
   "metadata": {
    "colab": {
     "base_uri": "https://localhost:8080/",
     "height": 575
    },
    "id": "aId1iLXtb7KA",
    "outputId": "f691051b-56b9-4864-f443-b17e04bb99dd"
   },
   "outputs": [],
   "source": [
    "imShow(\"runs\\\\detect\\\\exp6\\\\b45-000-000-b005.png\")"
   ]
  },
  {
   "cell_type": "code",
   "execution_count": null,
   "metadata": {},
   "outputs": [],
   "source": []
  }
 ],
 "metadata": {
  "accelerator": "GPU",
  "colab": {
   "name": "YOLOv7Detection.ipynb",
   "provenance": []
  },
  "gpuClass": "standard",
  "kernelspec": {
   "display_name": "Python 3 (ipykernel)",
   "language": "python",
   "name": "python3"
  },
  "language_info": {
   "codemirror_mode": {
    "name": "ipython",
    "version": 3
   },
   "file_extension": ".py",
   "mimetype": "text/x-python",
   "name": "python",
   "nbconvert_exporter": "python",
   "pygments_lexer": "ipython3",
   "version": "3.10.5"
  }
 },
 "nbformat": 4,
 "nbformat_minor": 1
}
