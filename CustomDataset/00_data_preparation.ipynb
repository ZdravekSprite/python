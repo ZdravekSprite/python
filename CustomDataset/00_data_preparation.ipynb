{
 "cells": [
  {
   "cell_type": "markdown",
   "id": "147b1cec",
   "metadata": {},
   "source": [
    "# Preparation\n",
    "## Paths"
   ]
  },
  {
   "cell_type": "code",
   "execution_count": null,
   "id": "b95e789f",
   "metadata": {},
   "outputs": [],
   "source": [
    "# Import Operating System\n",
    "import os"
   ]
  },
  {
   "cell_type": "code",
   "execution_count": null,
   "id": "2b187c41",
   "metadata": {},
   "outputs": [],
   "source": [
    "ipynb_path = os.path.dirname(os.path.realpath(\"__file__\"))\n",
    "print(ipynb_path)"
   ]
  },
  {
   "cell_type": "code",
   "execution_count": null,
   "id": "a4edabcc",
   "metadata": {},
   "outputs": [],
   "source": [
    "root = \"\\\\\".join(ipynb_path.split(\"\\\\\")[:-2])+\"\\\\datasets\"\n",
    "print(root)"
   ]
  },
  {
   "cell_type": "code",
   "execution_count": null,
   "id": "0b227e6e",
   "metadata": {},
   "outputs": [],
   "source": [
    "workspace = \"custom\""
   ]
  },
  {
   "cell_type": "code",
   "execution_count": null,
   "id": "af41b936",
   "metadata": {},
   "outputs": [],
   "source": [
    "paths = {\n",
    "    'WORKSPACE_PATH': os.path.join(root, workspace),\n",
    "    'OVERLAYS_PATH': os.path.join(root, workspace,'overlays'),\n",
    "    'BACKGROUNDS_PATH': os.path.join(root, workspace,'backgrounds'),\n",
    "    'IMAGES_PATH': os.path.join(root, workspace,'images'),\n",
    "    'ANNOTATIONS_PATH': os.path.join(root, workspace,'annotations'),\n",
    " }\n",
    "print(paths)"
   ]
  },
  {
   "cell_type": "code",
   "execution_count": null,
   "id": "329373e1",
   "metadata": {},
   "outputs": [],
   "source": [
    "for path in paths.values():\n",
    "    if not os.path.exists(path):\n",
    "        if os.name == 'posix':\n",
    "            !mkdir -p {path}\n",
    "        if os.name == 'nt':\n",
    "            !mkdir {path}"
   ]
  },
  {
   "cell_type": "markdown",
   "id": "7f024d63",
   "metadata": {},
   "source": [
    "## Backgrounds"
   ]
  },
  {
   "cell_type": "code",
   "execution_count": null,
   "id": "e3c829c3",
   "metadata": {
    "scrolled": true
   },
   "outputs": [],
   "source": [
    "_, _, background_files = next(os.walk(paths['BACKGROUNDS_PATH']), (None, [], []))\n",
    "print(\"background files: \" + str(len(background_files)))"
   ]
  },
  {
   "cell_type": "markdown",
   "id": "021ab954",
   "metadata": {},
   "source": [
    "## Overlays"
   ]
  },
  {
   "cell_type": "code",
   "execution_count": null,
   "id": "b925d843",
   "metadata": {},
   "outputs": [],
   "source": [
    "_, overlays_folders, overlays_files = next(os.walk(paths['OVERLAYS_PATH']), (None, [], []))\n",
    "print(\"overlays folders: \" + str(len(overlays_folders)))\n",
    "print(\"overlays files: \" + str(len(overlays_files)))"
   ]
  },
  {
   "cell_type": "markdown",
   "id": "a3da914b",
   "metadata": {},
   "source": [
    "## Labels"
   ]
  },
  {
   "cell_type": "code",
   "execution_count": null,
   "id": "5b250533",
   "metadata": {},
   "outputs": [],
   "source": [
    "labels = []\n",
    "overlays = []\n",
    "for folder in overlays_folders:\n",
    "    #print(\"label: \" + folder)\n",
    "    labels.append(folder)\n",
    "    _, _, overlays_files_versions = next(os.walk(os.path.join(paths['OVERLAYS_PATH'], folder)), (None, [], []))\n",
    "    for file in overlays_files_versions:\n",
    "        #print(\"file: \" + file)\n",
    "        overlays.append(os.path.join(paths['OVERLAYS_PATH'], folder, file))\n",
    "\n",
    "for file in overlays_files:\n",
    "    overlays.append(os.path.join(paths['OVERLAYS_PATH'], file))\n",
    "    file_label = \"-\".join(file.split(\"-\")[:-1])\n",
    "    #print(\"label: \" + file_label)\n",
    "    labels.append(file_label)\n",
    "\n",
    "#print(labels)\n",
    "print(overlays)\n",
    "\n",
    "list_filename = os.path.join(paths['WORKSPACE_PATH'], 'className.list')\n",
    "#print(list_filename)\n",
    "\n",
    "with open(list_filename, 'w') as file :\n",
    "    file.write('')\n",
    "\n",
    "for (l, label) in enumerate(labels):\n",
    "    with open(list_filename, 'a') as file :\n",
    "        file.write(label+\"\\n\")"
   ]
  },
  {
   "cell_type": "code",
   "execution_count": null,
   "id": "cf084a26",
   "metadata": {},
   "outputs": [],
   "source": [
    "#!pip install opencv-python\n",
    "#!pip install matplotlib\n",
    "#!pip install scipy\n",
    "#!pip install imutils"
   ]
  },
  {
   "cell_type": "code",
   "execution_count": null,
   "id": "ae942231",
   "metadata": {},
   "outputs": [],
   "source": [
    "import cv2\n",
    "import imutils\n",
    "import numpy as np\n",
    "import matplotlib.pyplot as plt\n",
    "import matplotlib.image as mpimg\n",
    "%matplotlib inline\n",
    "import math\n",
    "import random"
   ]
  },
  {
   "cell_type": "code",
   "execution_count": null,
   "id": "9e497a37",
   "metadata": {},
   "outputs": [],
   "source": [
    "img = mpimg.imread(overlays[0])\n",
    "#print(img)\n",
    "#imgplot = plt.imshow(img)\n",
    "y, x = img[:, :, 3].nonzero()\n",
    "minx = np.min(x)\n",
    "miny = np.min(y)\n",
    "maxx = np.max(x)\n",
    "maxy = np.max(y)\n",
    "difx = maxx - minx\n",
    "dify = maxy - miny\n",
    "dia = int(math.sqrt(math.pow(difx, 2) + math.pow(dify, 2)))\n",
    "print(dia)\n",
    "#cropImg = img[miny:maxy, minx:maxx]\n",
    "cropImg = img[miny:maxy, minx:maxx]\n",
    "#imgplot = plt.imshow(cropImg)\n",
    "\n",
    "n_channels = 4\n",
    "transparent_img = np.zeros((dia, dia, n_channels), dtype=np.single)\n",
    "\n",
    "overlay_height, overlay_width = cropImg.shape[:2]\n",
    "# background_padding_y\n",
    "bpy = int((dia - overlay_height)/2)\n",
    "# background_padding_x\n",
    "bpx = int((dia - overlay_width)/2)\n",
    "\n",
    "transparent_img[bpy:(bpy+overlay_height), bpx:(bpx+overlay_width)] = cropImg\n",
    "\n",
    "# rotation\n",
    "rmin = 0\n",
    "rmax = 45\n",
    "deg = random.uniform(rmin, rmax)\n",
    "pos = 2*(random.random()-0.5)\n",
    "rotated = imutils.rotate(transparent_img, angle=deg*pos)\n",
    "a = rotated[:, :, 3]\n",
    "\n",
    "#imgplot = plt.imshow(rotated)\n",
    "\n",
    "gmin=0.5\n",
    "gmax=1.5\n",
    "smin=0.5\n",
    "smax=1.0\n",
    "\n",
    "saturation = random.uniform(smin, smax)\n",
    "gamma = random.uniform(gmin, gmax)\n",
    "\n",
    "hsv = cv2.cvtColor(rotated, cv2.COLOR_BGR2HSV)\n",
    "\n",
    "#imgplot = plt.imshow(hsv)\n",
    "\n",
    "h, s, v = cv2.split(hsv)\n",
    "\n",
    "# adjust\n",
    "s_desat = cv2.multiply(s, saturation)\n",
    "v_gamma = cv2.multiply(v, gamma)\n",
    "hsv_new = cv2.merge([h, s_desat, v_gamma])\n",
    "\n",
    "#imgplot = plt.imshow(hsv_new)\n",
    "\n",
    "# convert to bgr\n",
    "bgr_adjust = cv2.cvtColor(hsv_new, cv2.COLOR_HSV2BGR)\n",
    "\n",
    "adjust = cv2.cvtColor(bgr_adjust, cv2.COLOR_RGB2RGBA)\n",
    "#imgplot = plt.imshow(bgr_adjust)\n",
    "adjust[:, :, 3] = a\n",
    "\n",
    "#resize\n",
    "zmin=0\n",
    "zmax=50\n",
    "resize = random.uniform(zmin, zmax)\n",
    "\n",
    "procent = 1-resize/100\n",
    "height, width = adjust.shape[:2]\n",
    "dim = (int(width*procent), height)\n",
    "resized = cv2.resize(adjust, dim, interpolation=cv2.INTER_AREA)\n",
    "\n",
    "resized*=255\n",
    "resized = resized.astype(int)\n",
    "resized[resized < 0] = 0\n",
    "resized[resized > 255] = 255\n",
    "\n",
    "y_, x_ = resized[:, :, 3].nonzero()\n",
    "minx_ = np.min(x_)\n",
    "miny_ = np.min(y_)\n",
    "maxx_ = np.max(x_)\n",
    "maxy_ = np.max(y_)\n",
    "cropImg_ = resized[miny_:maxy_, minx_:maxx_]\n",
    "\n",
    "imgplot = plt.imshow(cropImg_)\n",
    "#print(cropImg_)"
   ]
  },
  {
   "cell_type": "code",
   "execution_count": null,
   "id": "308ad062",
   "metadata": {},
   "outputs": [],
   "source": []
  }
 ],
 "metadata": {
  "kernelspec": {
   "display_name": "Python 3 (ipykernel)",
   "language": "python",
   "name": "python3"
  },
  "language_info": {
   "codemirror_mode": {
    "name": "ipython",
    "version": 3
   },
   "file_extension": ".py",
   "mimetype": "text/x-python",
   "name": "python",
   "nbconvert_exporter": "python",
   "pygments_lexer": "ipython3",
   "version": "3.10.5"
  }
 },
 "nbformat": 4,
 "nbformat_minor": 5
}
