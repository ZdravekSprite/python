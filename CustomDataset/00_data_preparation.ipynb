{
 "cells": [
  {
   "cell_type": "markdown",
   "id": "147b1cec",
   "metadata": {},
   "source": [
    "# Preparation\n",
    "## Paths"
   ]
  },
  {
   "cell_type": "code",
   "execution_count": null,
   "id": "b95e789f",
   "metadata": {},
   "outputs": [],
   "source": [
    "# Import Operating System\n",
    "import os"
   ]
  },
  {
   "cell_type": "code",
   "execution_count": null,
   "id": "2b187c41",
   "metadata": {},
   "outputs": [],
   "source": [
    "ipynb_path = os.path.dirname(os.path.realpath(\"__file__\"))\n",
    "print(ipynb_path)"
   ]
  },
  {
   "cell_type": "code",
   "execution_count": null,
   "id": "a4edabcc",
   "metadata": {},
   "outputs": [],
   "source": [
    "root = \"\\\\\".join(ipynb_path.split(\"\\\\\")[:-2])+\"\\\\datasets\"\n",
    "print(root)"
   ]
  },
  {
   "cell_type": "code",
   "execution_count": null,
   "id": "0b227e6e",
   "metadata": {},
   "outputs": [],
   "source": [
    "workspace = \"custom\""
   ]
  },
  {
   "cell_type": "code",
   "execution_count": null,
   "id": "af41b936",
   "metadata": {},
   "outputs": [],
   "source": [
    "paths = {\n",
    "    'WORKSPACE_PATH': os.path.join(root, workspace),\n",
    "    'OVERLAYS_PATH': os.path.join(root, workspace,'overlays'),\n",
    "    'BACKGROUNDS_PATH': os.path.join(root, workspace,'backgrounds'),\n",
    "    'IMAGES_PATH': os.path.join(root, workspace,'images'),\n",
    "    'ANNOTATIONS_PATH': os.path.join(root, workspace,'annotations'),\n",
    " }\n",
    "print(paths)"
   ]
  },
  {
   "cell_type": "code",
   "execution_count": null,
   "id": "329373e1",
   "metadata": {},
   "outputs": [],
   "source": [
    "for path in paths.values():\n",
    "    if not os.path.exists(path):\n",
    "        if os.name == 'posix':\n",
    "            !mkdir -p {path}\n",
    "        if os.name == 'nt':\n",
    "            !mkdir {path}"
   ]
  },
  {
   "cell_type": "markdown",
   "id": "7f024d63",
   "metadata": {},
   "source": [
    "## Backgrounds"
   ]
  },
  {
   "cell_type": "code",
   "execution_count": null,
   "id": "e3c829c3",
   "metadata": {
    "scrolled": true
   },
   "outputs": [],
   "source": [
    "_, _, background_files = next(os.walk(paths['BACKGROUNDS_PATH']), (None, [], []))\n",
    "print(\"background files: \" + str(len(background_files)))"
   ]
  },
  {
   "cell_type": "markdown",
   "id": "021ab954",
   "metadata": {},
   "source": [
    "## Overlays"
   ]
  },
  {
   "cell_type": "code",
   "execution_count": null,
   "id": "b925d843",
   "metadata": {},
   "outputs": [],
   "source": [
    "_, overlays_folders, overlays_files = next(os.walk(paths['OVERLAYS_PATH']), (None, [], []))\n",
    "print(\"overlays folders: \" + str(len(overlays_folders)))\n",
    "print(\"overlays files: \" + str(len(overlays_files)))"
   ]
  },
  {
   "cell_type": "markdown",
   "id": "a3da914b",
   "metadata": {},
   "source": [
    "## Labels"
   ]
  },
  {
   "cell_type": "code",
   "execution_count": null,
   "id": "5b250533",
   "metadata": {},
   "outputs": [],
   "source": [
    "labels = []\n",
    "overlays = []\n",
    "for folder in overlays_folders:\n",
    "    #print(\"label: \" + folder)\n",
    "    labels.append(folder)\n",
    "    _, _, overlays_files_versions = next(os.walk(os.path.join(paths['OVERLAYS_PATH'], folder)), (None, [], []))\n",
    "    for file in overlays_files_versions:\n",
    "        #print(\"file: \" + file)\n",
    "        overlays.append(os.path.join(paths['OVERLAYS_PATH'], folder, file))\n",
    "\n",
    "for file in overlays_files:\n",
    "    overlays.append(os.path.join(paths['OVERLAYS_PATH'], file))\n",
    "    file_label = \"-\".join(file.split(\"-\")[:-1])\n",
    "    #print(\"label: \" + file_label)\n",
    "    labels.append(file_label)\n",
    "\n",
    "#print(labels)\n",
    "print(overlays)\n",
    "\n",
    "list_filename = os.path.join(paths['WORKSPACE_PATH'], 'className.list')\n",
    "#print(list_filename)\n",
    "\n",
    "with open(list_filename, 'w') as file :\n",
    "    file.write('')\n",
    "\n",
    "for (l, label) in enumerate(labels):\n",
    "    with open(list_filename, 'a') as file :\n",
    "        file.write(label+\"\\n\")"
   ]
  },
  {
   "cell_type": "code",
   "execution_count": null,
   "id": "cf084a26",
   "metadata": {},
   "outputs": [],
   "source": [
    "#!pip install opencv-python\n",
    "#!pip install matplotlib\n",
    "#!pip install scipy\n",
    "#!pip install imutils"
   ]
  },
  {
   "cell_type": "code",
   "execution_count": null,
   "id": "ae942231",
   "metadata": {},
   "outputs": [],
   "source": [
    "import cv2\n",
    "import imutils\n",
    "import numpy as np\n",
    "import matplotlib.pyplot as plt\n",
    "import matplotlib.image as mpimg\n",
    "%matplotlib inline\n",
    "import math\n",
    "import random"
   ]
  },
  {
   "cell_type": "code",
   "execution_count": null,
   "id": "b40e0f02",
   "metadata": {},
   "outputs": [],
   "source": [
    "def crop_alpha(image_to_crop):\n",
    "    # axis 0 is the row(y) and axis(x) 1 is the column\n",
    "    # get the nonzero alpha coordinates\n",
    "    y, x = image_to_crop[:, :, 3].nonzero()\n",
    "    minx = np.min(x)\n",
    "    miny = np.min(y)\n",
    "    maxx = np.max(x)\n",
    "    maxy = np.max(y)\n",
    "    croped = image_to_crop[miny:maxy, minx:maxx]\n",
    "    return croped"
   ]
  },
  {
   "cell_type": "code",
   "execution_count": null,
   "id": "550ee5eb",
   "metadata": {},
   "outputs": [],
   "source": [
    "def rotate_image(image_to_rotate, rmax=45, rmin=0):\n",
    "    deg = random.uniform(rmin, rmax)\n",
    "    pos = 2*(random.random()-0.5)\n",
    "    \n",
    "    height, width = image_to_rotate.shape[:2]\n",
    "    dia = int(math.sqrt(math.pow(height, 2) + math.pow(width, 2)))\n",
    "\n",
    "    n_channels = 4\n",
    "    transparent_img = np.zeros((dia, dia, n_channels), dtype=np.single)\n",
    "\n",
    "    # padding_y\n",
    "    bpy = int((dia - height)/2)\n",
    "    # padding_x\n",
    "    bpx = int((dia - width)/2)\n",
    "\n",
    "    transparent_img[bpy:(bpy+height), bpx:(bpx+width)] = image_to_rotate\n",
    "\n",
    "    rotated = imutils.rotate(transparent_img, angle=deg*pos)\n",
    "    return rotated"
   ]
  },
  {
   "cell_type": "code",
   "execution_count": null,
   "id": "b8960317",
   "metadata": {},
   "outputs": [],
   "source": [
    "def adjust_image(image_to_adjust, gmin=0.5, gmax=1.5, smin=0.5, smax=1.0):\n",
    "    saturation = random.uniform(smin, smax)\n",
    "    gamma = random.uniform(gmin, gmax)\n",
    "\n",
    "    a = rotated[:, :, 3]\n",
    "\n",
    "    hsv = cv2.cvtColor(image_to_adjust, cv2.COLOR_BGR2HSV)\n",
    "    h, s, v = cv2.split(hsv)\n",
    "\n",
    "    s_desat = cv2.multiply(s, saturation)\n",
    "    v_gamma = cv2.multiply(v, gamma)\n",
    "    hsv_new = cv2.merge([h, s_desat, v_gamma])\n",
    "\n",
    "    bgr_adjust = cv2.cvtColor(hsv_new, cv2.COLOR_HSV2BGR)\n",
    "    adjusted = cv2.cvtColor(bgr_adjust, cv2.COLOR_RGB2RGBA)\n",
    "    adjusted[:, :, 3] = a\n",
    "    return adjusted"
   ]
  },
  {
   "cell_type": "code",
   "execution_count": null,
   "id": "67ae9f4a",
   "metadata": {},
   "outputs": [],
   "source": [
    "def resize_image(image_to_resize, max=50, min=0):\n",
    "    resize = random.uniform(min, max)\n",
    "    procent = 1-resize/100\n",
    "\n",
    "    height, width = image_to_resize.shape[:2]\n",
    "    dim = (int(width*procent), height)\n",
    "    resized = cv2.resize(image_to_resize, dim, interpolation=cv2.INTER_AREA)\n",
    "    return resized"
   ]
  },
  {
   "cell_type": "code",
   "execution_count": null,
   "id": "be213164",
   "metadata": {},
   "outputs": [],
   "source": [
    "def resize_if_big(image_to_resize, size=100):\n",
    "    height, width = image_to_resize.shape[:2]\n",
    "\n",
    "    dim = (width, height)\n",
    "    if height > size:\n",
    "        dim = (int(size*width/height), size)\n",
    "\n",
    "    if width > height:\n",
    "        if width > size:\n",
    "            dim = (size, int(size*height/width))\n",
    "    if dim == (width, height):\n",
    "        return image_to_resize\n",
    "    resized = cv2.resize(image_to_resize, dim, interpolation=cv2.INTER_AREA)\n",
    "    return resized"
   ]
  },
  {
   "cell_type": "code",
   "execution_count": null,
   "id": "cff43f10",
   "metadata": {},
   "outputs": [],
   "source": [
    "def resize_if_small(image_to_resize, size=100):\n",
    "    height, width = image_to_resize.shape[:2]\n",
    "\n",
    "    dim = (width, height)\n",
    "    if height < size:\n",
    "        dim = (int(size*width/height), size)\n",
    "\n",
    "    if width < height:\n",
    "        if width < size:\n",
    "            dim = (size, int(size*height/width))\n",
    "    if dim == (width, height):\n",
    "        return image_to_resize\n",
    "    resized = cv2.resize(image_to_resize, dim, interpolation=cv2.INTER_AREA)\n",
    "    return resized"
   ]
  },
  {
   "cell_type": "code",
   "execution_count": null,
   "id": "c2c8cfe2",
   "metadata": {},
   "outputs": [],
   "source": [
    "def random_crop(image, crop_height=320, crop_width=320, padding=0):\n",
    "    max_x = image.shape[1]-crop_width-padding*2\n",
    "    max_y = image.shape[0]-crop_height-padding*2\n",
    "    x = np.random.randint(0, max_x)\n",
    "    y = np.random.randint(0, max_y)\n",
    "    crop = image[y: y+crop_height+padding*2, x: x+crop_width+padding*2]\n",
    "    return crop"
   ]
  },
  {
   "cell_type": "code",
   "execution_count": null,
   "id": "5dc95684",
   "metadata": {},
   "outputs": [],
   "source": [
    "def combine_images(overlay, background):\n",
    "    combine_image = background\n",
    "    overlay_height, overlay_width = overlay.shape[:2]\n",
    "    background_height, background_width = background.shape[:2]\n",
    "    # background_padding_y\n",
    "    bpy = int((background_height - overlay_height)/2)\n",
    "    # background_padding_x\n",
    "    bpx = int((background_width - overlay_width)/2)\n",
    "    for y in range(overlay_height):\n",
    "        for x in range(overlay_width):\n",
    "            overlay_color = overlay[y, x, :3]\n",
    "            # 4th element is the alpha channel, convert from 0-255 to 0.0-1.0\n",
    "            overlay_alpha = overlay[y, x, 3]\n",
    "            background_color = background[bpy+y, bpx+x]\n",
    "            combine_color = background_color * \\\n",
    "                (1 - overlay_alpha)+overlay_color*overlay_alpha\n",
    "            # update the background image in place\n",
    "            combine_image[bpy+y, bpx+x] = combine_color\n",
    "    return combine_image"
   ]
  },
  {
   "cell_type": "code",
   "execution_count": null,
   "id": "bcd65526",
   "metadata": {},
   "outputs": [],
   "source": [
    "print(\"overlays files: \" + str(len(overlays)))\n",
    "print(overlays[0])\n",
    "print(\"background files: \" + str(len(background_files)))\n",
    "background = os.path.join(paths['BACKGROUNDS_PATH'], background_files[0])\n",
    "print(background)\n",
    "\n",
    "finish_size = 320\n",
    "\n",
    "bgi = mpimg.imread(background)\n",
    "bgi = resize_if_small(bgi, size=finish_size)\n",
    "bg_crop = random_crop(bgi, finish_size, finish_size, 0)\n",
    "#imgplot = plt.imshow(bg_crop)\n",
    "\n",
    "img = mpimg.imread(overlays[0])\n",
    "cropImg = crop_alpha(img)\n",
    "rotated = rotate_image(cropImg)\n",
    "adjusted = adjust_image(rotated)\n",
    "resized = resize_image(adjusted)\n",
    "\n",
    "resized[resized < 0] = 0.\n",
    "resized[resized > 1] = 1.\n",
    "\n",
    "overlay = crop_alpha(resized)\n",
    "overlay = resize_if_small(overlay, finish_size)\n",
    "overlay = resize_if_big(overlay, finish_size)\n",
    "#imgplot = plt.imshow(overlay)\n",
    "#print(cropImg_)\n",
    "combine = combine_images(overlay, bg_crop/255)\n",
    "imgplot = plt.imshow(combine)"
   ]
  },
  {
   "cell_type": "code",
   "execution_count": null,
   "id": "7c446a49",
   "metadata": {},
   "outputs": [],
   "source": []
  }
 ],
 "metadata": {
  "kernelspec": {
   "display_name": "Python 3 (ipykernel)",
   "language": "python",
   "name": "python3"
  },
  "language_info": {
   "codemirror_mode": {
    "name": "ipython",
    "version": 3
   },
   "file_extension": ".py",
   "mimetype": "text/x-python",
   "name": "python",
   "nbconvert_exporter": "python",
   "pygments_lexer": "ipython3",
   "version": "3.10.5"
  }
 },
 "nbformat": 4,
 "nbformat_minor": 5
}
