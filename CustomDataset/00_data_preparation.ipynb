{
 "cells": [
  {
   "cell_type": "markdown",
   "id": "147b1cec",
   "metadata": {},
   "source": [
    "# Preparation\n",
    "## Paths"
   ]
  },
  {
   "cell_type": "code",
   "execution_count": 1,
   "id": "b95e789f",
   "metadata": {},
   "outputs": [],
   "source": [
    "# Import Operating System\n",
    "import os"
   ]
  },
  {
   "cell_type": "code",
   "execution_count": 2,
   "id": "2b187c41",
   "metadata": {},
   "outputs": [
    {
     "name": "stdout",
     "output_type": "stream",
     "text": [
      "C:\\git\\python\\CustomDataset\n"
     ]
    }
   ],
   "source": [
    "ipynb_path = os.path.dirname(os.path.realpath(\"__file__\"))\n",
    "print(ipynb_path)"
   ]
  },
  {
   "cell_type": "code",
   "execution_count": 3,
   "id": "a4edabcc",
   "metadata": {},
   "outputs": [
    {
     "name": "stdout",
     "output_type": "stream",
     "text": [
      "C:\\git\\datasets\n"
     ]
    }
   ],
   "source": [
    "root = \"\\\\\".join(ipynb_path.split(\"\\\\\")[:-2])+\"\\\\datasets\"\n",
    "print(root)"
   ]
  },
  {
   "cell_type": "code",
   "execution_count": 4,
   "id": "0b227e6e",
   "metadata": {},
   "outputs": [],
   "source": [
    "workspace = \"custom\""
   ]
  },
  {
   "cell_type": "code",
   "execution_count": 5,
   "id": "af41b936",
   "metadata": {},
   "outputs": [
    {
     "name": "stdout",
     "output_type": "stream",
     "text": [
      "{'WORKSPACE_PATH': 'C:\\\\git\\\\datasets\\\\custom', 'OVERLAYS_PATH': 'C:\\\\git\\\\datasets\\\\custom\\\\overlays', 'BACKGROUNDS_PATH': 'C:\\\\git\\\\datasets\\\\custom\\\\backgrounds', 'IMAGES_PATH': 'C:\\\\git\\\\datasets\\\\custom\\\\images', 'ANNOTATIONS_PATH': 'C:\\\\git\\\\datasets\\\\custom\\\\annotations'}\n"
     ]
    }
   ],
   "source": [
    "paths = {\n",
    "    'WORKSPACE_PATH': os.path.join(root, workspace),\n",
    "    'OVERLAYS_PATH': os.path.join(root, workspace,'overlays'),\n",
    "    'BACKGROUNDS_PATH': os.path.join(root, workspace,'backgrounds'),\n",
    "    'IMAGES_PATH': os.path.join(root, workspace,'images'),\n",
    "    'ANNOTATIONS_PATH': os.path.join(root, workspace,'annotations'),\n",
    " }\n",
    "print(paths)"
   ]
  },
  {
   "cell_type": "code",
   "execution_count": 6,
   "id": "329373e1",
   "metadata": {},
   "outputs": [],
   "source": [
    "for path in paths.values():\n",
    "    if not os.path.exists(path):\n",
    "        if os.name == 'posix':\n",
    "            !mkdir -p {path}\n",
    "        if os.name == 'nt':\n",
    "            !mkdir {path}"
   ]
  },
  {
   "cell_type": "markdown",
   "id": "7f024d63",
   "metadata": {},
   "source": [
    "## Backgrounds"
   ]
  },
  {
   "cell_type": "code",
   "execution_count": 7,
   "id": "e3c829c3",
   "metadata": {},
   "outputs": [
    {
     "name": "stdout",
     "output_type": "stream",
     "text": [
      "background files: 1\n"
     ]
    }
   ],
   "source": [
    "_, _, background_files = next(os.walk(paths['BACKGROUNDS_PATH']), (None, [], []))\n",
    "print(\"background files: \" + str(len(background_files)))"
   ]
  },
  {
   "cell_type": "markdown",
   "id": "021ab954",
   "metadata": {},
   "source": [
    "## Overlays"
   ]
  },
  {
   "cell_type": "code",
   "execution_count": 8,
   "id": "b925d843",
   "metadata": {},
   "outputs": [
    {
     "name": "stdout",
     "output_type": "stream",
     "text": [
      "overlays folders: 3\n",
      "overlays files: 24\n"
     ]
    }
   ],
   "source": [
    "_, overlays_folders, overlays_files = next(os.walk(paths['OVERLAYS_PATH']), (None, [], []))\n",
    "print(\"overlays folders: \" + str(len(overlays_folders)))\n",
    "print(\"overlays files: \" + str(len(overlays_files)))"
   ]
  },
  {
   "cell_type": "markdown",
   "id": "a3da914b",
   "metadata": {},
   "source": [
    "## Labels"
   ]
  },
  {
   "cell_type": "code",
   "execution_count": 9,
   "id": "5b250533",
   "metadata": {},
   "outputs": [
    {
     "name": "stdout",
     "output_type": "stream",
     "text": [
      "['b01-000', 'b30-050', 'b38-040', 'b30-010', 'b30-020', 'b30-030', 'b30-040', 'b30-060', 'b30-070', 'b30-080', 'b30-090', 'b30-100', 'b30-110', 'b30-120', 'b30-130', 'b38-010', 'b38-020', 'b38-030', 'b38-050', 'b38-060', 'b38-070', 'b38-080', 'b38-090', 'b38-100', 'b38-110', 'b38-120', 'b38-130']\n"
     ]
    }
   ],
   "source": [
    "labels = []\n",
    "for folder in overlays_folders:\n",
    "    #print(\"label: \" + folder)\n",
    "    labels.append(folder)\n",
    "\n",
    "for file in overlays_files:\n",
    "    file_label = \"-\".join(file.split(\"-\")[:-1])\n",
    "    #print(\"label: \" + file_label)\n",
    "    labels.append(file_label)\n",
    "\n",
    "print(labels)"
   ]
  },
  {
   "cell_type": "code",
   "execution_count": null,
   "id": "681fb446",
   "metadata": {},
   "outputs": [],
   "source": []
  }
 ],
 "metadata": {
  "kernelspec": {
   "display_name": "Python 3 (ipykernel)",
   "language": "python",
   "name": "python3"
  },
  "language_info": {
   "codemirror_mode": {
    "name": "ipython",
    "version": 3
   },
   "file_extension": ".py",
   "mimetype": "text/x-python",
   "name": "python",
   "nbconvert_exporter": "python",
   "pygments_lexer": "ipython3",
   "version": "3.10.5"
  }
 },
 "nbformat": 4,
 "nbformat_minor": 5
}
