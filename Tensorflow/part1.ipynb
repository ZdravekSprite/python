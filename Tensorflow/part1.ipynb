{
 "cells": [
  {
   "cell_type": "markdown",
   "id": "dc89f412",
   "metadata": {},
   "source": [
    "# 1. Import Dependencies"
   ]
  },
  {
   "cell_type": "code",
   "execution_count": null,
   "id": "58185cf4",
   "metadata": {},
   "outputs": [],
   "source": [
    "!pip install opencv-python"
   ]
  },
  {
   "cell_type": "code",
   "execution_count": null,
   "id": "58ec96e8",
   "metadata": {},
   "outputs": [],
   "source": [
    "# Import opencv\n",
    "import cv2\n",
    "# Import Operating System\n",
    "import os\n",
    "# Import Random\n",
    "import random\n",
    "# Import Numpy\n",
    "import numpy as np"
   ]
  },
  {
   "cell_type": "markdown",
   "id": "489f2103",
   "metadata": {},
   "source": [
    "# 2. Define Images to Collect"
   ]
  },
  {
   "cell_type": "code",
   "execution_count": null,
   "id": "26f1bcea",
   "metadata": {},
   "outputs": [],
   "source": [
    "labels = ['b01-000', 'b02-000', 'b03-000', 'c01-000', 'c06-000']\n",
    "number_imgs = 5"
   ]
  },
  {
   "cell_type": "markdown",
   "id": "e1286d65",
   "metadata": {},
   "source": [
    "# 3. Setup Folders"
   ]
  },
  {
   "cell_type": "code",
   "execution_count": null,
   "id": "201f067a",
   "metadata": {},
   "outputs": [],
   "source": [
    "ipynb_path = os.path.dirname(os.path.realpath(\"__file__\"))\n",
    "#print(ipynb_path)\n",
    "root = \"\\\\\".join(ipynb_path.split(\"\\\\\")[:-2])\n",
    "#print(root)\n",
    "ORIGINALS_PATH = os.path.join(root, 'datasets', 'originals')\n",
    "original_folders = ['backgrounds', 'overlays']\n",
    "ROOT_PATH = os.path.join(root, 'datasets', 'tftest')\n",
    "IMAGES_PATH = os.path.join(ROOT_PATH, 'images')\n",
    "images_folders = ['train', 'test']"
   ]
  },
  {
   "cell_type": "code",
   "execution_count": null,
   "id": "305de630",
   "metadata": {},
   "outputs": [],
   "source": [
    "if not os.path.exists(ORIGINALS_PATH):\n",
    "    if os.name == 'posix':\n",
    "        !mkdir -p {ORIGINALS_PATH}\n",
    "    if os.name == 'nt':\n",
    "         !mkdir {ORIGINALS_PATH}\n",
    "for folder in original_folders:\n",
    "    path = os.path.join(ORIGINALS_PATH, folder)\n",
    "    if not os.path.exists(path):\n",
    "        !mkdir {path}\n",
    "\n",
    "if not os.path.exists(ROOT_PATH):\n",
    "    if os.name == 'posix':\n",
    "        !mkdir -p {ROOT_PATH}\n",
    "    if os.name == 'nt':\n",
    "         !mkdir {ROOT_PATH}\n",
    "if not os.path.exists(IMAGES_PATH):\n",
    "    !mkdir {IMAGES_PATH}\n",
    "for folder in images_folders:\n",
    "    path = os.path.join(IMAGES_PATH, folder)\n",
    "    if not os.path.exists(path):\n",
    "        !mkdir {path}"
   ]
  },
  {
   "cell_type": "markdown",
   "id": "403554b0",
   "metadata": {},
   "source": [
    "# 4. Create Images & Annoations"
   ]
  },
  {
   "cell_type": "code",
   "execution_count": null,
   "id": "6a90d5c2",
   "metadata": {},
   "outputs": [],
   "source": [
    "BACKGROUNDS_PATH = os.path.join(ORIGINALS_PATH, 'backgrounds')\n",
    "_, _, background_files = next(os.walk(BACKGROUNDS_PATH), (None, [], []))\n",
    "print(\"background files: \" + str(len(background_files)))\n",
    "\n",
    "OVERLAYS_PATH = os.path.join(ORIGINALS_PATH, 'overlays')\n",
    "_, overlay_folders, _ = next(os.walk(OVERLAYS_PATH), (None, [], []))\n",
    "print(\"overlay folders: \" + str(len(overlay_folders)))\n",
    "\n",
    "all_overlay_files = []\n",
    "\n",
    "for (m, overlay_folder) in enumerate(overlay_folders):\n",
    "    path = os.path.join(OVERLAYS_PATH, overlay_folder)\n",
    "    _, _, overlay_files = next(os.walk(path), (None, [], []))\n",
    "    for (d, overlay_file) in enumerate(overlay_files):\n",
    "        #print(\"overlay file: \" + overlay_file)\n",
    "        overlay_path = os.path.join(path, overlay_file)\n",
    "        all_overlay_files.append(overlay_path)\n",
    "\n",
    "print(\"all overlay files: \" + str(len(all_overlay_files)))\n",
    "#print(all_overlay_files)"
   ]
  },
  {
   "cell_type": "code",
   "execution_count": null,
   "id": "d7fec80f",
   "metadata": {},
   "outputs": [],
   "source": [
    "for (o, overlay_path) in enumerate(all_overlay_files):\n",
    "\n",
    "    _, class_name, file = overlay_path.split(\"\\\\\")[-3:]\n",
    "    overlay_name, _ = file.split(\".\")[-2:]\n",
    "    \n",
    "    overlay = cv2.imread(overlay_path, cv2.IMREAD_UNCHANGED)\n",
    "\n",
    "    y, x = overlay[:, :, 3].nonzero()\n",
    "    minx = np.min(x)\n",
    "    miny = np.min(y)\n",
    "    maxx = np.max(x)\n",
    "    maxy = np.max(y)\n",
    "    overlay = overlay[miny:maxy, minx:maxx]\n",
    "    \n",
    "    overlay_height, overlay_width = overlay.shape[:2]\n",
    "    \n",
    "    for i in range(number_imgs+1):\n",
    "        \n",
    "        targetName = class_name+\"-\"+overlay_name+\"-\"+str(i)+\".png\"\n",
    "        aTargetName = class_name+\"-\"+overlay_name+\"-\"+str(i)+\".xml\"\n",
    "        tot = 'train'\n",
    "        if i==number_imgs:\n",
    "            tot = 'test'\n",
    "        \n",
    "        background_file = random.choice(background_files)\n",
    "        background_path = os.path.join(BACKGROUNDS_PATH, background_file)\n",
    "        background = cv2.imread(background_path)\n",
    "        background_height, background_width = background.shape[:2]\n",
    "        dim = (background_height, background_width)\n",
    "        if background_height < overlay_height:\n",
    "            dim[0] = overlay_height\n",
    "        if background_width < overlay_width:\n",
    "            dim[1] = overlay_width\n",
    "        if dim != (background_height, background_width):\n",
    "            background = cv2.resize(background, dim, interpolation=cv2.INTER_AREA)\n",
    "\n",
    "        rndy = 0\n",
    "        if dim[0] > overlay_height:\n",
    "            rndy = random.randint(0, dim[0]-overlay_height)\n",
    "\n",
    "        rndx = 0\n",
    "        if dim[1] > overlay_width:\n",
    "            rndx = random.randint(0, dim[1]-overlay_width)\n",
    "        \n",
    "        combine_image = background\n",
    "        for y in range(overlay_height):\n",
    "            for x in range(overlay_width):\n",
    "                overlay_color = overlay[y, x, :3]\n",
    "                overlay_alpha = overlay[y, x, 3] / 255\n",
    "                background_color = background[rndy+y, rndx+x]\n",
    "                combine_color = background_color*(1-overlay_alpha)+overlay_color*overlay_alpha\n",
    "                combine_image[rndy+y, rndx+x] = combine_color\n",
    "        \n",
    "        target_path = os.path.join(IMAGES_PATH, tot, targetName)\n",
    "        a_target_path = os.path.join(IMAGES_PATH, tot, aTargetName)\n",
    "        print(target_path)\n",
    "        cv2.imwrite(target_path, combine_image)\n",
    "        anotation = \"<annotation>\\n\"+ \\\n",
    "        \"\\t<folder>\"+tot+\"</folder>\\n\"+ \\\n",
    "        \"\\t<filename>\"+targetName+\"</filename>\\n\"+ \\\n",
    "        \"\\t<path>\"+root+\"\\\\datasets\\\\tftest\\images\\\\\"+tot+\"\\\\\"+targetName+\"</path>\\n\"+ \\\n",
    "        \"\\t<source>\\n\"+ \\\n",
    "        \"\\t\\t<database>Unknown</database>\\n\"+ \\\n",
    "        \"\\t</source>\\n\"+ \\\n",
    "        \"\\t<size>\\n\"+ \\\n",
    "        \"\\t\\t<width>\"+str(dim[1])+\"</width>\\n\"+ \\\n",
    "        \"\\t\\t<height>\"+str(dim[0])+\"</height>\\n\"+ \\\n",
    "        \"\\t\\t<depth>3</depth>\\n\"+ \\\n",
    "        \"\\t</size>\\n\"+ \\\n",
    "        \"\\t<segmented>0</segmented>\\n\"+ \\\n",
    "        \"\\t<object>\\n\"+ \\\n",
    "        \"\\t\\t<name>\"+class_name+\"</name>\\n\"+ \\\n",
    "        \"\\t\\t<pose>Unspecified</pose>\\n\"+ \\\n",
    "        \"\\t\\t<truncated>0</truncated>\\n\"+ \\\n",
    "        \"\\t\\t<difficult>0</difficult>\\n\"+ \\\n",
    "        \"\\t\\t<bndbox>\\n\"+ \\\n",
    "        \"\\t\\t\\t<xmin>\"+str(rndx)+\"</xmin>\\n\"+ \\\n",
    "        \"\\t\\t\\t<ymin>\"+str(rndy)+\"</ymin>\\n\"+ \\\n",
    "        \"\\t\\t\\t<xmax>\"+str(rndx+overlay_width)+\"</xmax>\\n\"+ \\\n",
    "        \"\\t\\t\\t<ymax>\"+str(rndy+overlay_height)+\"</ymax>\\n\"+ \\\n",
    "        \"\\t\\t</bndbox>\\n\"+ \\\n",
    "        \"\\t</object>\\n\"+ \\\n",
    "        \"</annotation>\"\n",
    "        f = open(a_target_path, \"w\")\n",
    "        f.write(anotation)\n",
    "        f.close()"
   ]
  }
 ],
 "metadata": {
  "kernelspec": {
   "display_name": "tfod",
   "language": "python",
   "name": "tfod"
  },
  "language_info": {
   "codemirror_mode": {
    "name": "ipython",
    "version": 3
   },
   "file_extension": ".py",
   "mimetype": "text/x-python",
   "name": "python",
   "nbconvert_exporter": "python",
   "pygments_lexer": "ipython3",
   "version": "3.10.4"
  }
 },
 "nbformat": 4,
 "nbformat_minor": 5
}
