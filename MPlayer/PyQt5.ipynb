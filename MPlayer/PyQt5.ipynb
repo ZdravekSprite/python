{
 "cells": [
  {
   "cell_type": "markdown",
   "id": "308b749d",
   "metadata": {},
   "source": [
    "# PyQt5"
   ]
  },
  {
   "cell_type": "code",
   "execution_count": null,
   "id": "d6ffc1c5",
   "metadata": {
    "scrolled": true
   },
   "outputs": [],
   "source": [
    "#!pip show pyqt5\n",
    "from PyQt5.QtCore import QT_VERSION_STR, PYQT_VERSION_STR\n",
    "print(\"Qt: v\", QT_VERSION_STR, \"\\tPyQt: v\", PYQT_VERSION_STR)"
   ]
  },
  {
   "cell_type": "code",
   "execution_count": null,
   "id": "b843a926",
   "metadata": {},
   "outputs": [],
   "source": [
    "import sys\n",
    "from PyQt5.QtWidgets import *\n",
    "from PyQt5.QtGui import *\n",
    "from PyQt5.QtMultimedia import *\n",
    "from PyQt5.QtMultimediaWidgets import *\n",
    "from PyQt5.QtCore import *"
   ]
  },
  {
   "cell_type": "code",
   "execution_count": null,
   "id": "3b712e95",
   "metadata": {},
   "outputs": [],
   "source": [
    "__appname__ = 'PyQt5'\n",
    "__width__ = 848\n",
    "__height__ = 480"
   ]
  },
  {
   "cell_type": "code",
   "execution_count": null,
   "id": "ca6c844e",
   "metadata": {},
   "outputs": [],
   "source": [
    "class MainWindow(QMainWindow):\n",
    "\n",
    "    def __init__(self):\n",
    "        super().__init__()\n",
    "\n",
    "        self.initUI()\n",
    "\n",
    "    def initUI(self):\n",
    "        exitAct = QAction(self.style().standardIcon(QStyle.SP_MediaPlay), '&Exit', self)\n",
    "        exitAct.setShortcut('Ctrl+Q')\n",
    "        exitAct.setStatusTip('Exit application')\n",
    "        exitAct.triggered.connect(qApp.quit)\n",
    "\n",
    "        self.statusBar().showMessage('Ready')\n",
    "\n",
    "        menubar = self.menuBar()\n",
    "        fileMenu = menubar.addMenu('&File')\n",
    "        fileMenu.addAction(exitAct)\n",
    "\n",
    "        self.setGeometry(0, 0, __width__*2, __height__+15)\n",
    "        self.setWindowTitle(__appname__)\n",
    "        self.setWindowIcon(self.style().standardIcon(QStyle.SP_MediaPlay))\n",
    "        self.show()"
   ]
  },
  {
   "cell_type": "code",
   "execution_count": null,
   "id": "39e6e927",
   "metadata": {},
   "outputs": [],
   "source": [
    "def main():\n",
    "    app = QApplication(sys.argv)\n",
    "    window = MainWindow()\n",
    "    sys.exit(app.exec_())"
   ]
  },
  {
   "cell_type": "code",
   "execution_count": null,
   "id": "4f8d621b",
   "metadata": {
    "scrolled": true
   },
   "outputs": [],
   "source": [
    "if __name__ == '__main__':\n",
    "    main()"
   ]
  }
 ],
 "metadata": {
  "kernelspec": {
   "display_name": "Python 3 (ipykernel)",
   "language": "python",
   "name": "python3"
  },
  "language_info": {
   "codemirror_mode": {
    "name": "ipython",
    "version": 3
   },
   "file_extension": ".py",
   "mimetype": "text/x-python",
   "name": "python",
   "nbconvert_exporter": "python",
   "pygments_lexer": "ipython3",
   "version": "3.10.5"
  }
 },
 "nbformat": 4,
 "nbformat_minor": 5
}
