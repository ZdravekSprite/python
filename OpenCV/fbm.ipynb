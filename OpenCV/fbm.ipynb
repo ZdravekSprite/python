{
 "cells": [
  {
   "cell_type": "markdown",
   "id": "308b749d",
   "metadata": {},
   "source": [
    "# Front back max"
   ]
  },
  {
   "cell_type": "code",
   "execution_count": null,
   "id": "d6ffc1c5",
   "metadata": {},
   "outputs": [],
   "source": [
    "import cv2\n",
    "print(cv2.__version__)"
   ]
  },
  {
   "cell_type": "markdown",
   "id": "59347ad0",
   "metadata": {},
   "source": [
    "Setup paths"
   ]
  },
  {
   "cell_type": "code",
   "execution_count": null,
   "id": "ca047f2a",
   "metadata": {},
   "outputs": [],
   "source": [
    "import os\n",
    "from pathlib import Path\n",
    "from time import time\n",
    "\n",
    "ipynb_path = os.path.dirname(os.path.realpath(\"__file__\"))\n",
    "#print(ipynb_path)\n",
    "root_path = Path(ipynb_path).parent.parent\n",
    "#print(root_path)\n",
    "vrl_path = root_path / 'lrv'\n",
    "#print(vrl_path)\n",
    "front_path = vrl_path / 'front'\n",
    "print(front_path)\n",
    "back_path = vrl_path / 'back'\n",
    "print(back_path)\n",
    "max_path = vrl_path / 'max'\n",
    "print(max_path)"
   ]
  },
  {
   "cell_type": "code",
   "execution_count": null,
   "id": "4b09f0f2",
   "metadata": {},
   "outputs": [],
   "source": [
    "def files_with_path(path,ext='LRV'):\n",
    "    _, _, files = next(os.walk(path), (None, [], []))\n",
    "    #print(files)\n",
    "    ext_files=[]\n",
    "    for f in files:\n",
    "        if f.split('.')[1]==ext:\n",
    "            ext_files.append(str(path / f))\n",
    "    print(ext_files)\n",
    "    return ext_files\n",
    "back_lrv = files_with_path(back_path)\n",
    "front_lrv = files_with_path(front_path)\n",
    "max_lrv = files_with_path(max_path)"
   ]
  },
  {
   "cell_type": "code",
   "execution_count": null,
   "id": "007c5ce8",
   "metadata": {},
   "outputs": [],
   "source": [
    "cap = cv2.VideoCapture(max_lrv[1])\n",
    "\n",
    "frame_no = 0\n",
    "loop_time = time()\n",
    "while cap.isOpened():\n",
    "    ret, frame = cap.read()\n",
    "    #if (time() - loop_time) == 0:\n",
    "    #    break\n",
    "    time_dif = time() - loop_time\n",
    "    #print(f'\\rFPS {1 / (time() - loop_time)}', end = \"\\r\")\n",
    "    #print(f'\\r{time_dif}', end = \"\\r\")\n",
    "    loop_time = time()\n",
    "    if ret & (time_dif != 0):\n",
    "        cv2.imshow('fbm', frame)\n",
    "        print(f'\\rFPS {1 / time_dif}', end = \"\\r\")\n",
    "        k = cv2.waitKey(int(1/time_dif))\n",
    "        if k == ord('q'):\n",
    "            break\n",
    "        if k == ord('s'):\n",
    "            cv2.imwrite(str(frame_no)+\".png\", frame)\n",
    "            print('\\n'+str(frame_no)+'.png saved')\n",
    "        if k == ord('a'):\n",
    "            print('\\na')\n",
    "    frame_no += 1\n",
    "\n",
    "cap.release()\n",
    "cv2.destroyAllWindows()"
   ]
  },
  {
   "cell_type": "code",
   "execution_count": null,
   "id": "c5b2cf1d",
   "metadata": {},
   "outputs": [],
   "source": [
    "from deFish import biFish"
   ]
  },
  {
   "cell_type": "code",
   "execution_count": null,
   "id": "87698bcc",
   "metadata": {},
   "outputs": [],
   "source": [
    "import numpy as np\n",
    "import math\n",
    "\n",
    "cap = cv2.VideoCapture(max_lrv[1])\n",
    "\n",
    "frame_no = 0\n",
    "loop_time = time()\n",
    "while cap.isOpened():\n",
    "    ret, frame = cap.read()\n",
    "    time_dif = time() - loop_time\n",
    "    loop_time = time()\n",
    "    if ret & (time_dif != 0):\n",
    "        cv2.imshow('fbm', biFish(np.asarray(frame), -0.5))\n",
    "        k = cv2.waitKey(1)\n",
    "        if k == ord('q'):\n",
    "            break\n",
    "    frame_no += 1\n",
    "\n",
    "cap.release()\n",
    "cv2.destroyAllWindows()"
   ]
  },
  {
   "cell_type": "code",
   "execution_count": null,
   "id": "272e1902",
   "metadata": {},
   "outputs": [],
   "source": []
  }
 ],
 "metadata": {
  "kernelspec": {
   "display_name": "Python 3 (ipykernel)",
   "language": "python",
   "name": "python3"
  },
  "language_info": {
   "codemirror_mode": {
    "name": "ipython",
    "version": 3
   },
   "file_extension": ".py",
   "mimetype": "text/x-python",
   "name": "python",
   "nbconvert_exporter": "python",
   "pygments_lexer": "ipython3",
   "version": "3.10.5"
  }
 },
 "nbformat": 4,
 "nbformat_minor": 5
}
