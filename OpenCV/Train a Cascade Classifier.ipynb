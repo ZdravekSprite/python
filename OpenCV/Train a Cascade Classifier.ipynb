{
 "cells": [
  {
   "cell_type": "markdown",
   "id": "308b749d",
   "metadata": {},
   "source": [
    "# [Train a Cascade Classifier](https://www.youtube.com/watch?v=XrCAvs9AePM)"
   ]
  },
  {
   "cell_type": "code",
   "execution_count": 2,
   "id": "d6ffc1c5",
   "metadata": {},
   "outputs": [
    {
     "name": "stdout",
     "output_type": "stream",
     "text": [
      "4.6.0\n"
     ]
    }
   ],
   "source": [
    "import cv2\n",
    "print(cv2.__version__)"
   ]
  },
  {
   "cell_type": "markdown",
   "id": "59347ad0",
   "metadata": {},
   "source": [
    "Setup paths"
   ]
  },
  {
   "cell_type": "code",
   "execution_count": 23,
   "id": "007c5ce8",
   "metadata": {},
   "outputs": [
    {
     "name": "stdout",
     "output_type": "stream",
     "text": [
      "FPS 32.006348915647942\r"
     ]
    }
   ],
   "source": [
    "import os\n",
    "from pathlib import Path\n",
    "from time import time\n",
    "\n",
    "ipynb_path = os.path.dirname(os.path.realpath(\"__file__\"))\n",
    "#print(ipynb_path)\n",
    "root_path = Path(ipynb_path).parent.parent\n",
    "#print(root_path)\n",
    "vrl_path = root_path / 'lrv'\n",
    "_, _, vrl_files = next(os.walk(vrl_path), (None, [], []))\n",
    "\n",
    "cap = cv2.VideoCapture(str(vrl_path / vrl_files[4]))\n",
    "\n",
    "loop_time = time()\n",
    "wait_koef = 1\n",
    "while cap.isOpened():\n",
    "    ret, frame = cap.read()\n",
    "    #if (time() - loop_time) == 0:\n",
    "    #    break\n",
    "    time_dif = time() - loop_time\n",
    "    #print(f'\\rFPS {1 / (time() - loop_time)}', end = \"\\r\")\n",
    "    #print(f'\\r{time_dif}', end = \"\\r\")\n",
    "    loop_time = time()\n",
    "    if ret & (time_dif != 0):\n",
    "        cv2.imshow('Train a Cascade Classifier', frame)\n",
    "        print(f'\\rFPS {wait_koef / time_dif}', end = \"\\r\")\n",
    "\n",
    "        if cv2.waitKey(int(1/time_dif)) & 0xFF == ord('q'):\n",
    "            break\n",
    "        if 0xFF == ord('s'):\n",
    "            wait_koef = wait_koef * 10\n",
    "            print('s')\n",
    "\n",
    "cap.release()\n",
    "cv2.destroyAllWindows()"
   ]
  },
  {
   "cell_type": "code",
   "execution_count": null,
   "id": "ce865234",
   "metadata": {},
   "outputs": [],
   "source": []
  },
  {
   "cell_type": "code",
   "execution_count": null,
   "id": "cb761b23",
   "metadata": {},
   "outputs": [],
   "source": []
  }
 ],
 "metadata": {
  "kernelspec": {
   "display_name": "Python 3 (ipykernel)",
   "language": "python",
   "name": "python3"
  },
  "language_info": {
   "codemirror_mode": {
    "name": "ipython",
    "version": 3
   },
   "file_extension": ".py",
   "mimetype": "text/x-python",
   "name": "python",
   "nbconvert_exporter": "python",
   "pygments_lexer": "ipython3",
   "version": "3.10.5"
  }
 },
 "nbformat": 4,
 "nbformat_minor": 5
}
