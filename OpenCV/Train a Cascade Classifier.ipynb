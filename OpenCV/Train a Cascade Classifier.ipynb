{
 "cells": [
  {
   "cell_type": "markdown",
   "id": "308b749d",
   "metadata": {},
   "source": [
    "# [Train a Cascade Classifier](https://www.youtube.com/watch?v=XrCAvs9AePM)"
   ]
  },
  {
   "cell_type": "code",
   "execution_count": null,
   "id": "d6ffc1c5",
   "metadata": {},
   "outputs": [],
   "source": [
    "import cv2\n",
    "print(cv2.__version__)"
   ]
  },
  {
   "cell_type": "markdown",
   "id": "59347ad0",
   "metadata": {},
   "source": [
    "Setup paths"
   ]
  },
  {
   "cell_type": "code",
   "execution_count": null,
   "id": "ca047f2a",
   "metadata": {},
   "outputs": [],
   "source": [
    "import os\n",
    "from pathlib import Path\n",
    "from time import time\n",
    "\n",
    "ipynb_path = os.path.dirname(os.path.realpath(\"__file__\"))\n",
    "#print(ipynb_path)\n",
    "root_path = Path(ipynb_path).parent.parent\n",
    "#print(root_path)\n",
    "vrl_path = root_path / 'lrv'"
   ]
  },
  {
   "cell_type": "code",
   "execution_count": null,
   "id": "4b09f0f2",
   "metadata": {},
   "outputs": [],
   "source": [
    "_, _, vrl_files = next(os.walk(vrl_path), (None, [], []))"
   ]
  },
  {
   "cell_type": "code",
   "execution_count": null,
   "id": "007c5ce8",
   "metadata": {},
   "outputs": [],
   "source": [
    "cap = cv2.VideoCapture(str(vrl_path / vrl_files[4]))\n",
    "\n",
    "loop_time = time()\n",
    "while cap.isOpened():\n",
    "    ret, frame = cap.read()\n",
    "    #if (time() - loop_time) == 0:\n",
    "    #    break\n",
    "    time_dif = time() - loop_time\n",
    "    #print(f'\\rFPS {1 / (time() - loop_time)}', end = \"\\r\")\n",
    "    #print(f'\\r{time_dif}', end = \"\\r\")\n",
    "    loop_time = time()\n",
    "    if ret & (time_dif != 0):\n",
    "        cv2.imshow('Train a Cascade Classifier', frame)\n",
    "        print(f'\\rFPS {1 / time_dif}', end = \"\\r\")\n",
    "        k = cv2.waitKey(int(1/time_dif))\n",
    "        if k == ord('q'):\n",
    "            break\n",
    "        if k == ord('s'):\n",
    "            print('\\ns')\n",
    "        if k == ord('a'):\n",
    "            print('\\na')\n",
    "\n",
    "cap.release()\n",
    "cv2.destroyAllWindows()"
   ]
  },
  {
   "cell_type": "code",
   "execution_count": null,
   "id": "8d316a3f",
   "metadata": {},
   "outputs": [],
   "source": []
  }
 ],
 "metadata": {
  "kernelspec": {
   "display_name": "Python 3 (ipykernel)",
   "language": "python",
   "name": "python3"
  },
  "language_info": {
   "codemirror_mode": {
    "name": "ipython",
    "version": 3
   },
   "file_extension": ".py",
   "mimetype": "text/x-python",
   "name": "python",
   "nbconvert_exporter": "python",
   "pygments_lexer": "ipython3",
   "version": "3.10.5"
  }
 },
 "nbformat": 4,
 "nbformat_minor": 5
}
