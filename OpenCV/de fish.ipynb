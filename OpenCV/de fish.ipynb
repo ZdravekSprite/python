{
 "cells": [
  {
   "cell_type": "code",
   "execution_count": null,
   "id": "17af4973",
   "metadata": {},
   "outputs": [],
   "source": [
    "import imageio\n",
    "import numpy as np\n",
    "from math import sqrt\n",
    "import sys\n",
    "import argparse\n",
    "import os"
   ]
  },
  {
   "cell_type": "code",
   "execution_count": null,
   "id": "45bb9fe1",
   "metadata": {},
   "outputs": [],
   "source": [
    "def get_fish_xn_yn(source_x, source_y, radius, distortion):\n",
    "    \"\"\"\n",
    "    Get normalized x, y pixel coordinates from the original image and return normalized \n",
    "    x, y pixel coordinates in the destination fished image.\n",
    "    :param distortion: Amount in which to move pixels from/to center.\n",
    "    As distortion grows, pixels will be moved further from the center, and vice versa.\n",
    "    \"\"\"\n",
    "\n",
    "    if 1 - distortion*(radius**2) == 0:\n",
    "        return source_x, source_y\n",
    "\n",
    "    return source_x / (1 - (distortion*(radius**2))), source_y / (1 - (distortion*(radius**2)))"
   ]
  },
  {
   "cell_type": "code",
   "execution_count": null,
   "id": "305611c4",
   "metadata": {},
   "outputs": [],
   "source": [
    "def fish(img, distortion_coefficient):\n",
    "    \"\"\"\n",
    "    :type img: numpy.ndarray\n",
    "    :param distortion_coefficient: The amount of distortion to apply.\n",
    "    :return: numpy.ndarray - the image with applied effect.\n",
    "    \"\"\"\n",
    "\n",
    "    # If input image is only BW or RGB convert it to RGBA\n",
    "    # So that output 'frame' can be transparent.\n",
    "    w, h = img.shape[0], img.shape[1]\n",
    "    if len(img.shape) == 2:\n",
    "        # Duplicate the one BW channel twice to create Black and White\n",
    "        # RGB image (For each pixel, the 3 channels have the same value)\n",
    "        bw_channel = np.copy(img)\n",
    "        img = np.dstack((img, bw_channel))\n",
    "        img = np.dstack((img, bw_channel))\n",
    "    if len(img.shape) == 3 and img.shape[2] == 3:\n",
    "        print(\"RGB to RGBA\")\n",
    "        img = np.dstack((img, np.full((w, h), 255)))\n",
    "\n",
    "    # prepare array for dst image\n",
    "    dstimg = np.zeros_like(img)\n",
    "\n",
    "    # floats for calcultions\n",
    "    w, h = float(w), float(h)\n",
    "\n",
    "    # easier calcultion if we traverse x, y in dst image\n",
    "    for x in range(len(dstimg)):\n",
    "        for y in range(len(dstimg[x])):\n",
    "\n",
    "            # normalize x and y to be in interval of [-1, 1]\n",
    "            xnd, ynd = float((2*x - w)/w), float((2*y - h)/h)\n",
    "\n",
    "            # get xn and yn distance from normalized center\n",
    "            rd = sqrt(xnd**2 + ynd**2)\n",
    "\n",
    "            # new normalized pixel coordinates\n",
    "            xdu, ydu = get_fish_xn_yn(xnd, ynd, rd, distortion_coefficient)\n",
    "\n",
    "            # convert the normalized distorted xdn and ydn back to image pixels\n",
    "            xu, yu = int(((xdu + 1)*w)/2), int(((ydu + 1)*h)/2)\n",
    "\n",
    "            # if new pixel is in bounds copy from source pixel to destination pixel\n",
    "            if 0 <= xu and xu < img.shape[0] and 0 <= yu and yu < img.shape[1]:\n",
    "                dstimg[x][y] = img[xu][yu]\n",
    "\n",
    "    return dstimg.astype(np.uint8)"
   ]
  },
  {
   "cell_type": "code",
   "execution_count": null,
   "id": "7bdf3c40",
   "metadata": {},
   "outputs": [],
   "source": [
    "from matplotlib.pyplot import imshow\n",
    "import numpy as np\n",
    "from PIL import Image\n",
    "\n",
    "%matplotlib inline\n",
    "pil_im = Image.open('test.png', 'r').convert('RGBA')\n",
    "imshow(np.asarray(pil_im))"
   ]
  },
  {
   "cell_type": "code",
   "execution_count": null,
   "id": "9560efeb",
   "metadata": {},
   "outputs": [],
   "source": [
    "import math\n",
    "\n",
    "np_im = np.asarray(pil_im)\n",
    "\n",
    "h_org, w_org = np_im.shape[:2]\n",
    "\n",
    "# Crop image\n",
    "image_arr = np_im[0:h_org, 0:w_org//2]\n",
    "\n",
    "n_channels = 4\n",
    "transparent_img1 = np.zeros((h_org, 2*w_org//3, n_channels), dtype=np.uint8)\n",
    "  \n",
    "# padding_x\n",
    "bpx = w_org//12\n",
    "\n",
    "transparent_img1[0:h_org, bpx:(bpx+w_org//2)] = image_arr\n",
    "\n",
    "transparent_img1[transparent_img1 < 0] = 0\n",
    "transparent_img1[transparent_img1 > 255] = 255\n",
    "\n",
    "imshow(transparent_img1)"
   ]
  },
  {
   "cell_type": "code",
   "execution_count": null,
   "id": "24ddb7e8",
   "metadata": {},
   "outputs": [],
   "source": [
    "deFish1 = fish(transparent_img1, -0.5)\n",
    "imshow(deFish1)"
   ]
  },
  {
   "cell_type": "code",
   "execution_count": null,
   "id": "8f8b902c",
   "metadata": {},
   "outputs": [],
   "source": [
    "import math\n",
    "\n",
    "# Crop image\n",
    "image_arr2 = np_im[0:h_org, (w_org//2):w_org]\n",
    "\n",
    "n_channels = 4\n",
    "transparent_img2 = np.zeros((h_org, 2*w_org//3, n_channels), dtype=np.uint8)\n",
    "\n",
    "transparent_img2[0:h_org, bpx:(bpx+w_org//2)] = image_arr2\n",
    "\n",
    "transparent_img2[transparent_img2 < 0] = 0\n",
    "transparent_img2[transparent_img2 > 255] = 255\n",
    "\n",
    "imshow(transparent_img2)"
   ]
  },
  {
   "cell_type": "code",
   "execution_count": null,
   "id": "447abdf1",
   "metadata": {},
   "outputs": [],
   "source": [
    "deFish2 = fish(transparent_img2, -0.5)\n",
    "imshow(deFish2)"
   ]
  },
  {
   "cell_type": "code",
   "execution_count": null,
   "id": "67eee012",
   "metadata": {},
   "outputs": [],
   "source": [
    "import math\n",
    "\n",
    "n_channels = 4\n",
    "transparent = np.zeros((h_org, 4*w_org//3, n_channels), dtype=np.uint8)\n",
    "\n",
    "transparent[0:h_org, 0:(2*w_org//3)] = deFish2\n",
    "transparent[0:h_org, (2*w_org//3+1):(4*w_org//3)] = deFish1\n",
    "\n",
    "transparent[transparent < 0] = 0\n",
    "transparent[transparent > 255] = 255\n",
    "\n",
    "imshow(transparent)"
   ]
  }
 ],
 "metadata": {
  "kernelspec": {
   "display_name": "Python 3 (ipykernel)",
   "language": "python",
   "name": "python3"
  },
  "language_info": {
   "codemirror_mode": {
    "name": "ipython",
    "version": 3
   },
   "file_extension": ".py",
   "mimetype": "text/x-python",
   "name": "python",
   "nbconvert_exporter": "python",
   "pygments_lexer": "ipython3",
   "version": "3.10.5"
  }
 },
 "nbformat": 4,
 "nbformat_minor": 5
}
